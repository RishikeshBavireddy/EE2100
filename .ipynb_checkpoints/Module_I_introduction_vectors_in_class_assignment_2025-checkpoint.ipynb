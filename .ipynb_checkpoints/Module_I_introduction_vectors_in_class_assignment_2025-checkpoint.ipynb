{
 "cells": [
  {
   "cell_type": "markdown",
   "metadata": {
    "id": "zFvMKes1BZjD"
   },
   "source": [
    "[link text](https://)# Welcome to computational applications of Matrix Theory"
   ]
  },
  {
   "cell_type": "markdown",
   "metadata": {
    "id": "-pfRxvTfBZjL"
   },
   "source": [
    "# Module I:  Introduction & Vectors"
   ]
  },
  {
   "cell_type": "markdown",
   "metadata": {
    "id": "eO0k2HaZBZjM"
   },
   "source": [
    "What can you solve with $Ax=b$?\n",
    "\n",
    "<img src=\"https://upload.wikimedia.org/wikipedia/commons/thumb/2/2f/Linear_subspaces_with_shading.svg/650px-Linear_subspaces_with_shading.svg.png\" alt=\"Visual image of three planes intersecting. This is a common image used in linear algebra and will be explained in detail laater in the semester.  It is included here mostly as a visual anchor that can help students when they review their notes. \">\n",
    "\n",
    "Image from [http://wikipedia.org/](http://wikipedia.org/)\n"
   ]
  },
  {
   "cell_type": "code",
   "execution_count": 531,
   "metadata": {
    "id": "33ewwgveBZjO",
    "outputId": "b91542a3-0cbc-43a1-af4d-b7d8f0dccadb"
   },
   "outputs": [
    {
     "data": {
      "image/jpeg": "[encoded data removed]",
      "text/html": [
       "\n",
       "        <iframe\n",
       "            width=\"640\"\n",
       "            height=\"360\"\n",
       "            src=\"https://www.youtube.com/embed/-aiL8iWhQjc?cc_load_policy=True\"\n",
       "            frameborder=\"0\"\n",
       "            allowfullscreen\n",
       "            \n",
       "        ></iframe>\n",
       "        "
      ],
      "text/plain": [
       "<IPython.lib.display.YouTubeVideo at 0x7f4a8d66b4d0>"
      ]
     },
     "execution_count": 531,
     "metadata": {},
     "output_type": "execute_result"
    }
   ],
   "source": [
    "from IPython.display import YouTubeVideo\n",
    "YouTubeVideo(\"-aiL8iWhQjc\",width=640,height=360, cc_load_policy=True)"
   ]
  },
  {
   "cell_type": "markdown",
   "metadata": {
    "id": "PMB9Hx1TBZjS"
   },
   "source": [
    "### Agenda for today's class (55 minutes)\n",
    "\n",
    "> Add blockquote\n",
    "\n",
    "\n",
    "\n",
    "\n",
    "1. [ (2 minutes) Class Procedures](#Class_Procedures)\n",
    "2. [(5 minutes) Example](#Example)\n",
    "3. [(48 minutes) Scalars and Vectors in Python](#Sclar)\n"
   ]
  },
  {
   "cell_type": "markdown",
   "metadata": {
    "id": "C-5pJr9vBZjT"
   },
   "source": [
    "---\n",
    "<a name=\"Class_Procedures\"></a>\n",
    "## 1. Class Procedures\n",
    "\n",
    "All in-class assignments are designed such that you can get started as soon as you show up in class. This is highly recommended.  See how far you can get on your own and then you will be ready when it is time for questions.   Here are the basic instructions."
   ]
  },
  {
   "cell_type": "markdown",
   "metadata": {
    "id": "0W8CBGKMBZjU"
   },
   "source": [
    "### &#9989; Step 1 - Get out your laptop\n",
    "> Feel free to grab one of the laptops in the classroom if you do not have your own."
   ]
  },
  {
   "cell_type": "markdown",
   "metadata": {
    "id": "uGSve8TpBZjU"
   },
   "source": [
    "### &#9989; Step 2 - Create a Course Assignment Folder in your home directory\n",
    "\n",
    "\n",
    "> **_HINT_** Store all notebooks in the same folder on your computer. They will work better that way."
   ]
  },
  {
   "cell_type": "markdown",
   "metadata": {
    "id": "LIYhsdcBBZjV"
   },
   "source": [
    "### &#9989; Step 3 - Download this jupyter notebook\n",
    "\n",
    "> Download a copy of this notebook (ipynb file which tands for ipython notebook).\n"
   ]
  },
  {
   "cell_type": "markdown",
   "metadata": {
    "id": "f2kJoGMiBZjW"
   },
   "source": [
    "### &#9989; Step 4 - Open this assignment in Jupyter\n",
    "\n",
    "> Open the downloaded file inside of jupyter either on your laptop or upload the file to an on-line server and open it there.  \n"
   ]
  },
  {
   "cell_type": "markdown",
   "metadata": {
    "id": "6bqylZ2MBZjW",
    "jp-MarkdownHeadingCollapsed": true
   },
   "source": [
    "---\n",
    "<a name=\"Introductions\"></a>\n",
    "##"
   ]
  },
  {
   "cell_type": "markdown",
   "metadata": {
    "id": "4uYCQDeABZjX"
   },
   "source": [
    "---\n",
    "<a name=\"Example\"></a>\n",
    "## 2. Example:\n",
    "\n",
    "Suppose that we have three objects on a balanced beam. Also suppose we know that one has a mass of 2 kg, and we want to find the two unknown masses. Experimentation with a (assume weightless) meter stick produces these two balances. (diagram not to scale)\n",
    "\n",
    "<img src=\"https://lh6.googleusercontent.com/S-glvU6hZySH682ocl1T_2jNWL7S2MUCQeyDFgEZM8GPZ4xLjEkeD9KKsU5otJF0zfgcQtT-zQ=w740\" align=\"center\" width=\"70%\" alt=\"Image showing two balanced beams, each with three weights. In the top beam is unknown weight A is a distance of 40 to the left of the fulcrum, unknown weight B is a distance of 15 to the left of the fulcrum and a weight of 2 is 50 to the right of the fulcrum. In the bottom beam is the same unknown weights.  Weight A is now a distance of 50 to the right of the fulcrum, weight B is a distance of 25 to the left of the fulcrum and the weight of 2 is a distance of 25 to the right of the fulcrum.\">\n",
    "\n",
    "For the masses to balance we must have the sum of the moments on the left equal to the sum of the moments on the right, where the moment of an object is its mass times its distance from the balance point.   That gives a system of two  equations:\n",
    "\n",
    "$$ 40A + 15B = 50 \\times 2$$\n",
    "$$25B = 25 \\times 2 + 50A$$\n"
   ]
  },
  {
   "cell_type": "markdown",
   "metadata": {
    "id": "xUguqLfJBZjX"
   },
   "source": [
    "&#9989; **<span style=\"color:red\">Do This:</span>** Find a solution for the above systems of equations and place your solution in the following cell. Make sure you delete the instructional text in the cell first."
   ]
  },
  {
   "cell_type": "code",
   "execution_count": 532,
   "metadata": {
    "id": "Tuh6GE9FBZjY"
   },
   "outputs": [],
   "source": [
    "# A=1; B=4"
   ]
  },
  {
   "cell_type": "markdown",
   "metadata": {
    "id": "j6WoHoPlBZjY"
   },
   "source": [
    "&#9989; **<span style=\"color:red\">Do This:</span>** Using Python as a calculator, verify that the solution you have found is correct.  \n",
    "\n"
   ]
  },
  {
   "cell_type": "code",
   "execution_count": 533,
   "metadata": {
    "id": "VegZqvhyBZjY"
   },
   "outputs": [
    {
     "data": {
      "text/plain": [
       "array([1., 4.])"
      ]
     },
     "execution_count": 533,
     "metadata": {},
     "output_type": "execute_result"
    }
   ],
   "source": [
    "coefficient_matrix = np.array([[40,15],[-50,25]])\n",
    "constant_vector = np.array([100,50])\n",
    "solution = np.linalg.solve(coefficient_matrix,constant_vector)\n",
    "solution"
   ]
  },
  {
   "cell_type": "markdown",
   "metadata": {
    "id": "KVgV6HYLBZjZ"
   },
   "source": [
    "&#9989; **<span style=\"color:red\">Do This:</span>** Now lets consider a system where we have three unknown masses instead of two. Experimentation with a meter stick produces the two balanced states shown below (diagram not to scale). Write the equations for this system.\n",
    "\n",
    "<img src=\"https://lh5.googleusercontent.com/lw_dWSYcWURCr552UwgFmCKqPWByDDUDicBuq0UT7vllHzJm7uG_S9f6K8p70ix9J6SRD2UdWQ=w740\" width=\"70%\" alt=\"Image showing two balanced beams, each with four weights. In the top beam is unknown weight A which is a distance of 35 to the left of the fulcrum, unknown weight B is a distance of 21 to the left of the fulcrum, unknown weight C is a distance of 11 to the right of the fulcrum and a weight of 2 is 50 to the right of the fulcrum. In the bottom beam is the same unknown weights.  Weight A is now a distance of 10 to the right of the fulcrum, weight B is a distance of 24 to the right of the fulcrum, weight C is a distance of 25 to the left of the fulcrum and the weight of 2 is still at a distance of 50 to the right of the fulcrum.\">\n"
   ]
  },
  {
   "cell_type": "markdown",
   "metadata": {
    "id": "n_tallDRBZjZ"
   },
   "source": [
    "35A+21B=11C+100\n",
    "\n",
    "25C=10A+24B+100"
   ]
  },
  {
   "cell_type": "markdown",
   "metadata": {
    "id": "1UylqFoXBZjZ"
   },
   "source": [
    "&#9989; **<span style=\"color:red\">Do This:</span>** Find a solution to the second set of equations and report the mass for objects A, B and C."
   ]
  },
  {
   "cell_type": "code",
   "execution_count": 534,
   "metadata": {
    "id": "5lEXpYHPBZja"
   },
   "outputs": [],
   "source": [
    "# A=50/7 B=-50/7 C=0"
   ]
  },
  {
   "cell_type": "markdown",
   "metadata": {
    "id": "x0fhmCzfBZja"
   },
   "source": [
    "&#9989; **<span style=\"color:red\">Do This:</span>** Using Python as a calculator, verify that the solution you have found is correct."
   ]
  },
  {
   "cell_type": "code",
   "execution_count": 535,
   "metadata": {
    "id": "n8zQ-jPQBZja"
   },
   "outputs": [
    {
     "ename": "LinAlgError",
     "evalue": "Singular matrix",
     "output_type": "error",
     "traceback": [
      "\u001b[31m---------------------------------------------------------------------------\u001b[39m",
      "\u001b[31mLinAlgError\u001b[39m                               Traceback (most recent call last)",
      "\u001b[36mCell\u001b[39m\u001b[36m \u001b[39m\u001b[32mIn[535]\u001b[39m\u001b[32m, line 3\u001b[39m\n\u001b[32m      1\u001b[39m coefficient_matrix = np.array([[\u001b[32m35\u001b[39m,\u001b[32m21\u001b[39m,-\u001b[32m11\u001b[39m],[-\u001b[32m10\u001b[39m,\u001b[32m24\u001b[39m,\u001b[32m25\u001b[39m],[\u001b[32m0\u001b[39m,\u001b[32m0\u001b[39m,\u001b[32m0\u001b[39m]])\n\u001b[32m      2\u001b[39m constant_vector = np.array([\u001b[32m100\u001b[39m,\u001b[32m100\u001b[39m,\u001b[32m0\u001b[39m])\n\u001b[32m----> \u001b[39m\u001b[32m3\u001b[39m solution = \u001b[43mnp\u001b[49m\u001b[43m.\u001b[49m\u001b[43mlinalg\u001b[49m\u001b[43m.\u001b[49m\u001b[43msolve\u001b[49m\u001b[43m(\u001b[49m\u001b[43mcoefficient_matrix\u001b[49m\u001b[43m,\u001b[49m\u001b[43mconstant_vector\u001b[49m\u001b[43m)\u001b[49m\n\u001b[32m      4\u001b[39m solution\n",
      "\u001b[36mFile \u001b[39m\u001b[32m~/.local/lib/python3.13/site-packages/numpy/linalg/_linalg.py:471\u001b[39m, in \u001b[36msolve\u001b[39m\u001b[34m(a, b)\u001b[39m\n\u001b[32m    468\u001b[39m signature = \u001b[33m'\u001b[39m\u001b[33mDD->D\u001b[39m\u001b[33m'\u001b[39m \u001b[38;5;28;01mif\u001b[39;00m isComplexType(t) \u001b[38;5;28;01melse\u001b[39;00m \u001b[33m'\u001b[39m\u001b[33mdd->d\u001b[39m\u001b[33m'\u001b[39m\n\u001b[32m    469\u001b[39m \u001b[38;5;28;01mwith\u001b[39;00m errstate(call=_raise_linalgerror_singular, invalid=\u001b[33m'\u001b[39m\u001b[33mcall\u001b[39m\u001b[33m'\u001b[39m,\n\u001b[32m    470\u001b[39m               over=\u001b[33m'\u001b[39m\u001b[33mignore\u001b[39m\u001b[33m'\u001b[39m, divide=\u001b[33m'\u001b[39m\u001b[33mignore\u001b[39m\u001b[33m'\u001b[39m, under=\u001b[33m'\u001b[39m\u001b[33mignore\u001b[39m\u001b[33m'\u001b[39m):\n\u001b[32m--> \u001b[39m\u001b[32m471\u001b[39m     r = \u001b[43mgufunc\u001b[49m\u001b[43m(\u001b[49m\u001b[43ma\u001b[49m\u001b[43m,\u001b[49m\u001b[43m \u001b[49m\u001b[43mb\u001b[49m\u001b[43m,\u001b[49m\u001b[43m \u001b[49m\u001b[43msignature\u001b[49m\u001b[43m=\u001b[49m\u001b[43msignature\u001b[49m\u001b[43m)\u001b[49m\n\u001b[32m    473\u001b[39m \u001b[38;5;28;01mreturn\u001b[39;00m wrap(r.astype(result_t, copy=\u001b[38;5;28;01mFalse\u001b[39;00m))\n",
      "\u001b[36mFile \u001b[39m\u001b[32m~/.local/lib/python3.13/site-packages/numpy/linalg/_linalg.py:163\u001b[39m, in \u001b[36m_raise_linalgerror_singular\u001b[39m\u001b[34m(err, flag)\u001b[39m\n\u001b[32m    162\u001b[39m \u001b[38;5;28;01mdef\u001b[39;00m\u001b[38;5;250m \u001b[39m\u001b[34m_raise_linalgerror_singular\u001b[39m(err, flag):\n\u001b[32m--> \u001b[39m\u001b[32m163\u001b[39m     \u001b[38;5;28;01mraise\u001b[39;00m LinAlgError(\u001b[33m\"\u001b[39m\u001b[33mSingular matrix\u001b[39m\u001b[33m\"\u001b[39m)\n",
      "\u001b[31mLinAlgError\u001b[39m: Singular matrix"
     ]
    }
   ],
   "source": [
    "coefficient_matrix = np.array([[35,21,-11],[-10,24,25],[0,0,0]])\n",
    "constant_vector = np.array([100,100,0])\n",
    "solution = np.linalg.solve(coefficient_matrix,constant_vector)\n",
    "solution"
   ]
  },
  {
   "cell_type": "markdown",
   "metadata": {
    "id": "aGizaJDVBZjb"
   },
   "source": [
    "----\n",
    "<a name=\"Scalars_and_Vector\"></a>\n",
    "## 3. Scalars and Vectors in Python\n",
    "\n",
    "As you know, the two primary mathematical entities that are of interest in linear algebra are the vector and the matrix.\n",
    "\n",
    "Defining a **_scalar_** in Python is easy. For example"
   ]
  },
  {
   "cell_type": "code",
   "execution_count": null,
   "metadata": {
    "id": "BLsD5aVFBZjb",
    "outputId": "04231280-5766-4ade-d3b1-e09b0af72ff0"
   },
   "outputs": [],
   "source": [
    "a = 8\n",
    "a"
   ]
  },
  {
   "cell_type": "markdown",
   "metadata": {
    "id": "VdiSExUtBZjb"
   },
   "source": [
    "\n",
    "<a name=\"Vector\"></a>\n",
    "### 3.a: Introducing Vectors in Python\n",
    "In Python, there are multiple ways to store a vector. Knowing how your vector is stored is very important (especially for debugging). Probably the easiest way to store a vector is using a list, which are created using standard square brackets as follows:"
   ]
  },
  {
   "cell_type": "code",
   "execution_count": null,
   "metadata": {
    "id": "xslrnWazBZjc",
    "outputId": "b041592f-4a02-4edf-8771-64e013fc1bbf"
   },
   "outputs": [],
   "source": [
    "f = [1, 2, 3, 5, 8]\n",
    "f"
   ]
  },
  {
   "cell_type": "markdown",
   "metadata": {
    "id": "P011_95IBZjc"
   },
   "source": [
    "Another common way to store a vector is to use a tuple."
   ]
  },
  {
   "cell_type": "code",
   "execution_count": null,
   "metadata": {
    "id": "xwZ2e7jLBZjc",
    "outputId": "a8ecd6d9-592f-46be-b333-2bde6eb61c2f"
   },
   "outputs": [],
   "source": [
    "b = (2, 4, 8, 16)\n",
    "b"
   ]
  },
  {
   "cell_type": "markdown",
   "metadata": {
    "id": "ThoEqVwVBZjd"
   },
   "source": [
    "You can access a particular scalar in your Python object using its index. Remember that Python index starts counting at zero. For example, to get the fourth element in f and b vectors, we would use the following syntax:"
   ]
  },
  {
   "cell_type": "code",
   "execution_count": null,
   "metadata": {
    "id": "guOR7DryBZjd",
    "outputId": "45824238-fa32-4de5-f675-894909df14b1"
   },
   "outputs": [],
   "source": [
    "print(f[3])\n",
    "print(b[3])"
   ]
  },
  {
   "cell_type": "markdown",
   "metadata": {
    "id": "TZ8SoKR8BZje"
   },
   "source": [
    "\n",
    "Later in this course, we may discuss which data format is better (and introduce new ones). At this point let's not worry about it too much. You can always figure out a variable's data type using the type function. For example:"
   ]
  },
  {
   "cell_type": "code",
   "execution_count": null,
   "metadata": {
    "id": "vnt8hkfMBZje",
    "outputId": "4e4b38d5-0e23-4d3e-e31b-7a7304dfc08b"
   },
   "outputs": [],
   "source": [
    "type(f)"
   ]
  },
  {
   "cell_type": "code",
   "execution_count": null,
   "metadata": {
    "id": "i_g6fCPDBZjf",
    "outputId": "65b8e65d-bad4-419a-c8fc-acfc1edf65b8"
   },
   "outputs": [],
   "source": [
    "type(b)"
   ]
  },
  {
   "cell_type": "markdown",
   "metadata": {
    "id": "aCELbxAdBZjf"
   },
   "source": [
    "\n",
    "The length (```len```) function returns the size of a vector in Python:"
   ]
  },
  {
   "cell_type": "code",
   "execution_count": null,
   "metadata": {
    "id": "5a9Y-PyJBZjg",
    "outputId": "fbfaa98a-45fe-48fa-e6da-a30543055266"
   },
   "outputs": [],
   "source": [
    "len(f)"
   ]
  },
  {
   "cell_type": "code",
   "execution_count": null,
   "metadata": {
    "id": "kc8IwW7_BZjg",
    "outputId": "ea3ba3c6-3870-4a00-86e8-a2da11d8a4b6"
   },
   "outputs": [],
   "source": [
    "len(b)"
   ]
  },
  {
   "cell_type": "markdown",
   "metadata": {
    "id": "q6t-sDNFBZjh"
   },
   "source": [
    "\n",
    "### 3.b: Examples\n",
    "\n",
    "\n",
    "Vectors are used to represent all types of data that has structures.  \n",
    "\n",
    "#### Location and displacement\n",
    "A 2D-vector can be used to represent a position or location in a space.  The first value is the distance in one direction (from the origin) and the second value is the distance in a different direction.  Probably most students are famiar with the 2D Cartesian coordinate system where a location can be defined by two values in the ```x``` and ```y``` directions.  Here is a simple scatter plot in python which show the concept:"
   ]
  },
  {
   "cell_type": "code",
   "execution_count": null,
   "metadata": {
    "id": "QIHyE0KXBZjh",
    "outputId": "d6c90cbe-2765-44ec-d8b8-b2d6a5152a7c"
   },
   "outputs": [],
   "source": [
    "%matplotlib inline\n",
    "import matplotlib.pylab as plt\n",
    "p1 = [2, 1]\n",
    "p2 = [1, 3]\n",
    "p3 = [1, 1]\n",
    "\n",
    "plt.plot(p1[0],p1[1],'*k')\n",
    "plt.plot(p2[0],p2[1],'*k')\n",
    "plt.plot(p3[0],p3[1],'*k')\n",
    "\n",
    "## Add some labels (offset slightly)\n",
    "plt.text(p1[0]+0.1,p1[1],'$p_1$')\n",
    "plt.text(p2[0]+0.1,p2[1],'$p_2$')\n",
    "plt.text(p3[0]+0.1,p3[1],'$p_3$')\n",
    "\n",
    "## Fix the axis so you can see the points\n",
    "plt.axis([0,4,0,4])\n",
    "plt.show()"
   ]
  },
  {
   "cell_type": "markdown",
   "metadata": {
    "id": "vo1KDyfiBZjh"
   },
   "source": [
    "#### Color\n",
    "A 3-vector can represent a color, with its entries giving the Red, Green, and Blue (RGB) intensity values (often between 0 and 1). The vector (0,0,0) represents black, the vector (0, 1, 0) represents a bright pure green color, and the vector (1, 0.5, 0.5) represents a shade of pink.\n",
    "\n",
    "The Python ```matplotlib``` library uses this type of vector to define colors.  For example, the following code plots a point at the origin of size 10000 (the size of the circle, and the value does not have exact meaning here) and color c = (0,1,0).  You can change the values for ```c``` and ```s``` to see the difference.\n"
   ]
  },
  {
   "cell_type": "code",
   "execution_count": null,
   "metadata": {
    "id": "-EXJWM-PBZjr",
    "outputId": "f85b71a3-ed28-4865-b1c9-bddf17bcafec"
   },
   "outputs": [],
   "source": [
    "import warnings\n",
    "warnings.filterwarnings(\"ignore\")\n",
    "\n",
    "c = (0.7, 0.4, 0.6)\n",
    "plt.scatter(0,0, color=c, s=10000);\n",
    "plt.show()"
   ]
  },
  {
   "cell_type": "markdown",
   "metadata": {
    "id": "eL-30vCxBZjr"
   },
   "source": [
    "### 3.c Python Vector Addition\n",
    "Here is where things get tricky in Python. If you try to add a list or tuple, Python does not do the vector addition as we defined above. In the following examples, notice that the two lists concatenate instead of adding by element:\n"
   ]
  },
  {
   "cell_type": "code",
   "execution_count": null,
   "metadata": {
    "id": "4S8H70hHBZjs",
    "outputId": "3c3f43a5-4368-47aa-d35d-c262b6eafa4a"
   },
   "outputs": [],
   "source": [
    "## THIS IS WRONG\n",
    "a = [1, 20]\n",
    "b = [22,-3]\n",
    "c = a+b\n",
    "c"
   ]
  },
  {
   "cell_type": "code",
   "execution_count": null,
   "metadata": {
    "id": "AJq8QyxwBZjs",
    "outputId": "cf0d08f5-421f-47bc-f2bf-fe17d46a0a5c"
   },
   "outputs": [],
   "source": [
    "## THIS IS ALSO WRONG\n",
    "a = (1, 20)\n",
    "b = (22,-3)\n",
    "c = a+b\n",
    "c"
   ]
  },
  {
   "cell_type": "markdown",
   "metadata": {
    "id": "3K0Kcio7BZjs"
   },
   "source": [
    "To do proper vector math you need either use a special function (we will learn these) or loop over the list.\n",
    "\n",
    "&#9989; **<font color=red>DO THIS:</font>** Fix the following code to create three vectors with four numbers.\n"
   ]
  },
  {
   "cell_type": "code",
   "execution_count": null,
   "metadata": {
    "id": "2THIag5cBZjt"
   },
   "outputs": [],
   "source": [
    "x = [1, 2, 3.4, 4]\n",
    "y = [1, 2, 3, 5]\n",
    "z = [1, 2, 3, 6.3]"
   ]
  },
  {
   "cell_type": "markdown",
   "metadata": {
    "id": "QP0unFXXBZjt"
   },
   "source": [
    "Although you may have been able to get rid of the error messages the answer to you problem may still not be correct.  Throughout the semester we will be using a python program called ```answercheck``` to allow you to check some of your answers.  This program doesn't tell you the right answer but it is intended to be used as a way to get immediate feedback and accelerate learning.\n",
    "\n",
    "&#9989; **<font color=red>DO THIS:</font>** First we will need to download ```answercheck.py``` to your current working directory.  You only really need to do this once.  However, if you delete this file by mistake sometime during the semester, you can come back to this notebook and download it again by running the following cell:S"
   ]
  },
  {
   "cell_type": "code",
   "execution_count": null,
   "metadata": {
    "id": "yAUKarWEBZjt"
   },
   "outputs": [],
   "source": [
    "from urllib.request import urlretrieve\n",
    "\n",
    "urlretrieve('https://raw.githubusercontent.com/colbrydi/jupytercheck/master/answercheck.py',\n",
    "            'answercheck.py');"
   ]
  },
  {
   "cell_type": "markdown",
   "metadata": {
    "id": "0RDngeRyBZju"
   },
   "source": [
    "&#9989; **<font color=red>DO THIS:</font>** Now just run the following command to see if you got ```x```, ```y``` and ```z``` correct when you fixed the code above."
   ]
  },
  {
   "cell_type": "code",
   "execution_count": null,
   "metadata": {
    "id": "jxw7YoiKBZju",
    "outputId": "1d95589e-6480-4ece-ba49-e7722cef7428"
   },
   "outputs": [],
   "source": [
    "from answercheck import checkanswer\n",
    "\n",
    "checkanswer([x,y,z],'e80321644979a873b273aebbbcd0e450');"
   ]
  },
  {
   "cell_type": "markdown",
   "metadata": {
    "id": "pVFSYudcBZjv"
   },
   "source": [
    "**_NOTE_** make sure you do not change the ```checkanswer``` commands.  The long string with numbers and letters is the secret code that encodes the true answer.  This code is also called the HASH.  Feel free to look at the ```answercheck.py``` code and see if you can figure out how it works?"
   ]
  },
  {
   "cell_type": "markdown",
   "metadata": {
    "id": "IpM2oIjYBZjv"
   },
   "source": [
    "\n",
    "### 3.d Numpy   \n",
    "Numpy is a common way to represent vectors, and you are suggested to use ```numpy``` unless otherwise specified. The benefit of ```numpy``` is that it can perform the linear algebra operations listed in the previous section.  \n",
    "\n",
    "For example, the following code uses ```numpy.array``` to define a vector of four elements."
   ]
  },
  {
   "cell_type": "code",
   "execution_count": null,
   "metadata": {
    "id": "JTZijv4ABZjv",
    "outputId": "a85a044f-ec22-4806-ef27-76a6c2494bbc"
   },
   "outputs": [],
   "source": [
    "import numpy as np\n",
    "x_np = np.array([-1, 0, 2, 3.1])\n",
    "x_np"
   ]
  },
  {
   "cell_type": "code",
   "execution_count": null,
   "metadata": {
    "id": "8SJQOkR_BZjw",
    "outputId": "613ff024-d4a4-43d0-f132-f1e0a16327e0"
   },
   "outputs": [],
   "source": [
    "x = 2.4\n",
    "y = [2.4]\n",
    "x == y"
   ]
  },
  {
   "cell_type": "code",
   "execution_count": null,
   "metadata": {
    "id": "vsBjXisnBZjw",
    "outputId": "b2172045-9b5b-45de-bfb5-30a079e24cbe"
   },
   "outputs": [],
   "source": [
    "x == y[0]"
   ]
  },
  {
   "cell_type": "markdown",
   "metadata": {
    "id": "VLKNSRrzBZjx"
   },
   "source": [
    "#### Lists of vectors\n",
    "We have a list of numpy arrays or a list of list. In this case, the vectors can have different dimensions."
   ]
  },
  {
   "cell_type": "markdown",
   "metadata": {
    "id": "Gd9KXME-BZjx"
   },
   "source": [
    "&#9989; **<font color=red>DO THIS:</font>** Modify the print statement using indexing to only print the value 3 from the ```list_of_vectors``` defined below.  "
   ]
  },
  {
   "cell_type": "code",
   "execution_count": null,
   "metadata": {
    "id": "2R3ubpGZBZjx",
    "outputId": "39543374-c866-408c-ca75-6d57ee83e668"
   },
   "outputs": [],
   "source": [
    "x_np = np.array([-1,0, 2 , 3.1])\n",
    "y_np = np.array([1,-1,3])\n",
    "z_np = np.array([0,1])\n",
    "list_of_vectors = [x_np,y_np,z_np]\n",
    "\n",
    "print(list_of_vectors)"
   ]
  },
  {
   "cell_type": "markdown",
   "metadata": {
    "id": "2JlWxRmsBZjy"
   },
   "source": [
    "&#9989; **<font color=red>DO THIS:</font>**  The following code tries to get the third element of ```x_np```, which is the number ```2.0```. Fix this code to provide the correct answer."
   ]
  },
  {
   "cell_type": "code",
   "execution_count": null,
   "metadata": {
    "id": "-ApVopeKBZjy",
    "outputId": "d624b40b-70a8-480e-caf9-d3d682e95537"
   },
   "outputs": [],
   "source": [
    "print(x_np[2])"
   ]
  },
  {
   "cell_type": "markdown",
   "metadata": {
    "id": "0-F_NFmnBZjy"
   },
   "source": [
    "&#9989; **<font color=red>DO THIS:</font>**  Replace only the third element of ```x_np``` with the number ```20.0``` such that the new values of ```x_np``` is [-1, 0, 20., 3.1]"
   ]
  },
  {
   "cell_type": "code",
   "execution_count": null,
   "metadata": {
    "id": "qXJ0k-VmBZjz",
    "outputId": "ecd64aa9-9572-4267-acc1-1922c5300df4"
   },
   "outputs": [],
   "source": [
    "# Replace the third element using 20.0, then the resulting element is\n",
    "#####Start your code here #####\n",
    "x_np[2] = 20.0\n",
    "#####End of your code here#####\n",
    "print(x_np)"
   ]
  },
  {
   "cell_type": "code",
   "execution_count": null,
   "metadata": {
    "id": "1oFoXu0sBZjz"
   },
   "outputs": [],
   "source": [
    "from answercheck import checkanswer\n",
    "\n",
    "checkanswer(x_np,'993d5cbc6ddeb10776ed48159780a5d3');"
   ]
  },
  {
   "cell_type": "markdown",
   "metadata": {
    "id": "qs78KjlWBZjz"
   },
   "source": [
    "There is a special index -1, which represents the last element in an array. There are several ways to get more than one consecutive elements.\n",
    "\n",
    "x_np[1:3] gives the 2nd and 3rd elements only. It starts with the first index and ends before the second index. So the number of element is just the difference between these two numbers.\n",
    "x_np[1:-1] is the same as x_np[1:3] for a 4-vector.\n",
    "If you want the last element also, then you do not need to put the index, e.g., x_n[1:] gives all elements except the first one. You can do the same thing as the first one."
   ]
  },
  {
   "cell_type": "markdown",
   "metadata": {
    "id": "llk8OYi9BZj0"
   },
   "source": [
    "&#9989; **<font color=red>DO THIS:</font>** you are given a vector (```x_np```) of $n$ elements, define a new vector (```d```) of size $n-1$ such that $d_i = x_{i+1}-x_i$ for $i=1,\\dots,n-1$.  **_Hint_** try doing this without writing your own loop.  You should be able to use simple ```numpy``` indexing as described above."
   ]
  },
  {
   "cell_type": "code",
   "execution_count": null,
   "metadata": {
    "id": "nUmDyhtuBZj0",
    "outputId": "e24a6f1f-2b97-4129-8da9-d90d4207d0ca"
   },
   "outputs": [],
   "source": [
    "x_np = np.array([1,8,3,2,1,9,7])\n",
    "\n",
    "d = x_np[1:] - x_np[:-1]\n",
    "\n",
    "## Put your answer to the above question here."
   ]
  },
  {
   "cell_type": "code",
   "execution_count": null,
   "metadata": {
    "id": "LH1Qah1eBZj1",
    "outputId": "e8aad3fc-5b98-4e16-a198-b1e9486187a8"
   },
   "outputs": [],
   "source": [
    "from answercheck import checkanswer\n",
    "\n",
    "checkanswer(d,'14205415f0ed56e608d0a87e7253fa70');"
   ]
  },
  {
   "cell_type": "markdown",
   "metadata": {
    "id": "IbfsnfXFBZj1"
   },
   "source": [
    "### Assignment versus copying\n",
    "Take a look at the following code.\n",
    "+ we create one numpy array ```x_np```\n",
    "+ we let ```y_np = x_np```\n",
    "+ we change the third element of ```y_np```\n",
    "+ The third element of ```x_np``` is also changed\n",
    "\n",
    "This looks weired and may not make sense for those uses other languages such as MATLAB.\n",
    "\n",
    "\n",
    "The reason for this is that we are not creating a copy of ```x_np``` and name it as ```y_np```. What we did is that we give a new name ```y_np``` to the same array ```x_np```. Therefore, if one is changed, and the other one is also changed, because they refer to the same array."
   ]
  },
  {
   "cell_type": "code",
   "execution_count": null,
   "metadata": {
    "id": "ZKl2o_bGBZj1",
    "outputId": "ec6263b6-de2c-4e83-ae8e-70a026e4c260"
   },
   "outputs": [],
   "source": [
    "x_np = np.array([-1, 0, 2, 3.1])\n",
    "y_np = x_np\n",
    "y_np[2] = 20.0\n",
    "x_np"
   ]
  },
  {
   "cell_type": "markdown",
   "metadata": {
    "id": "0JaYz1imBZj2"
   },
   "source": [
    "&#9989; **<font color=red>DO THIS:</font>** There is a method named ```copy``` that can be used to create a new array. You can search how it works and fix the code below. If this is done correctly the ```x_np``` vector should stay the same and the ```y_np``` you now be ```[-1 0 2 3.1]```."
   ]
  },
  {
   "cell_type": "code",
   "execution_count": null,
   "metadata": {
    "id": "tlZsRzWzBZj2",
    "outputId": "94dac9d7-211d-4463-e685-67f04ba1abc2"
   },
   "outputs": [],
   "source": [
    "## modify the following code to copy the x_np instead of just giving it a new name\n",
    "x_np = np.array([-1, 0, 2, 3.1])\n",
    "y_np = x_np.copy()\n",
    "y_np[2] = 20.0\n",
    "print(x_np)"
   ]
  },
  {
   "cell_type": "code",
   "execution_count": null,
   "metadata": {
    "id": "1bt3KZgRBZj2",
    "outputId": "44901bbf-da87-4562-ee25-9b8194c7c064"
   },
   "outputs": [],
   "source": [
    "from answercheck import checkanswer\n",
    "\n",
    "checkanswer(x_np,'0ba269d18692155ba252e6addedf37ad');"
   ]
  },
  {
   "cell_type": "code",
   "execution_count": null,
   "metadata": {
    "id": "qrGmI5MNBZj3",
    "outputId": "4aae7159-c85c-4dde-d810-970f55bef567"
   },
   "outputs": [],
   "source": [
    "from answercheck import checkanswer\n",
    "\n",
    "checkanswer(y_np,'993d5cbc6ddeb10776ed48159780a5d3');"
   ]
  },
  {
   "cell_type": "markdown",
   "metadata": {
    "id": "t7Lqs5MtBZj4"
   },
   "source": [
    "### Vector equality in numpy and list\n",
    "\n",
    "The relational operator (```==```, ```<```, ```>```, ```!=```, etc.) can be used to check whether the vectors are same or not. However, they will act differently if the code is comparing ```numpy.array``` objects or a ```list```. In ```numpy```, In ```numpy``` relational operators checks the equality for each element in the ```array```. For ```list```, relational operators check all elements."
   ]
  },
  {
   "cell_type": "code",
   "execution_count": null,
   "metadata": {
    "id": "8NnyC7fGBZj4"
   },
   "outputs": [],
   "source": [
    "import numpy as np\n",
    "x = [-1, 0, 2, 3.1]\n",
    "y = x.copy()\n",
    "y[2] = 20.2\n",
    "\n",
    "x_np = np.array(x)\n",
    "y_np = np.array(y)\n",
    "x == y"
   ]
  },
  {
   "cell_type": "code",
   "execution_count": null,
   "metadata": {
    "id": "aajUNa3MBZj5",
    "outputId": "dfe8fd82-4103-4aae-d52b-8097e965df2b"
   },
   "outputs": [],
   "source": [
    "np.array(x_np) == np.array(y_np)"
   ]
  },
  {
   "cell_type": "markdown",
   "metadata": {
    "id": "_xMXHVA7BZj5"
   },
   "source": [
    "### Zero vectors and Ones vectors in numpy\n",
    "\n",
    "+ zeros(n) creates a vector with all 0s\n",
    "+ ones(n) creates a vector with all 1s"
   ]
  },
  {
   "cell_type": "markdown",
   "metadata": {
    "id": "HQWLT-y8BZj5"
   },
   "source": [
    "&#9989; **<font color=red>DO THIS:</font>** Create a zero vector (called ```zero_np```) with the same dimension as vector ```x_np```. Create a ones vector (called ```ones_np```) also with the same dimension as vector ```x_np```."
   ]
  },
  {
   "cell_type": "code",
   "execution_count": null,
   "metadata": {
    "id": "WB0DGXV4BZj6"
   },
   "outputs": [],
   "source": [
    "x_np = np.array([-1, 0, 2, 3.1])\n",
    "### Define zero_np and ones_np here\n",
    "zero_np = np.zeros(4)\n",
    "ones_np = np.ones(4)"
   ]
  },
  {
   "cell_type": "code",
   "execution_count": null,
   "metadata": {
    "id": "nPghNn2cBZj6",
    "outputId": "fd4bf272-995b-4e49-c5c3-f19b7850e0c2"
   },
   "outputs": [],
   "source": [
    "from answercheck import checkanswer\n",
    "\n",
    "checkanswer([zero_np, ones_np],'7f874c2e446786655ff96f0bbae8a0c6');"
   ]
  },
  {
   "cell_type": "markdown",
   "metadata": {
    "id": "6YnzGcrcBZj7"
   },
   "source": [
    "### Random vectors\n",
    "\n",
    "+ random.random(n) creates a random vector with dimension $n$.\n"
   ]
  },
  {
   "cell_type": "code",
   "execution_count": null,
   "metadata": {
    "id": "iTx-ArD1BZj7",
    "outputId": "0b55f2af-de94-46da-b6dd-fbd81b8a6030"
   },
   "outputs": [],
   "source": [
    "random_np = np.random.random(2)\n",
    "print(random_np)"
   ]
  },
  {
   "cell_type": "markdown",
   "metadata": {
    "id": "UuHH3iA9BZj7"
   },
   "source": [
    "### Vector addition and subtraction\n",
    "In this section, you will understand why we use numpy for linear algebra opeartions. If x and y are numpy arrays of the same size, we can have x + y and x-y for their addition and subtraction, respectively."
   ]
  },
  {
   "cell_type": "code",
   "execution_count": null,
   "metadata": {
    "id": "Y1x-enuIBZj8",
    "outputId": "7d067361-1a1a-4929-e4e0-3a8a762109f5"
   },
   "outputs": [],
   "source": [
    "x_np = np.array([1,2,3])\n",
    "y_np = np.array([100,200,300])\n",
    "\n",
    "v_sum = x_np + y_np\n",
    "v_diff = x_np - y_np\n",
    "\n",
    "print (f'Sum of vectors: {v_sum}')\n",
    "print (f'Difference of vectors: {v_diff}')"
   ]
  },
  {
   "cell_type": "markdown",
   "metadata": {
    "id": "popZaE6VBZj8"
   },
   "source": [
    "For comparison, we also put the addition of two lists below. Recall, we have to define a function to add two lists for linear algebra.\n",
    "\n",
    "\n",
    "&#9989; **<font color=red>DO THIS:</font>**  Modify the following code to properly add and subtract the two lists.  **_HINT_** it is perfectly okay NOT to write your own function try you should be able to cast the lists as arrays:"
   ]
  },
  {
   "cell_type": "code",
   "execution_count": null,
   "metadata": {
    "id": "t5zVPfSwBZj8",
    "outputId": "45af2494-c1bf-44c2-db3d-8976dba1c71d"
   },
   "outputs": [],
   "source": [
    "x = [1,2,3]\n",
    "y = [100,200,300]\n",
    "\n",
    "def ADDITION(x,y):\n",
    "    return np.array(x) + np.array(y)\n",
    "\n",
    "def SUBTRACTION(x,y) :\n",
    "    return np.array(x) - np.array(y)\n",
    "\n",
    "v_sum = ADDITION(x,y)\n",
    "v_diff = SUBTRACTION(x,y)\n",
    "\n",
    "print (f'Sum of vectors: {v_sum}')\n",
    "print (f'Difference of vectors: {v_diff}')"
   ]
  },
  {
   "cell_type": "markdown",
   "metadata": {
    "id": "COYeAKVPBZj9"
   },
   "source": [
    "### Scalar-vector addition\n",
    "A scalar-vector addition means that the scalar (or a 1-vector) is added to all elements of the vector."
   ]
  },
  {
   "cell_type": "markdown",
   "metadata": {
    "id": "evdRM-YIBZj9"
   },
   "source": [
    "&#9989; **<font color=red>DO THIS:</font>** Add a scalar 20.20 to all elements of the following vector ```x_np ``` and store teh result back into ```x_np```"
   ]
  },
  {
   "cell_type": "code",
   "execution_count": null,
   "metadata": {
    "id": "CIyTuqM4BZj9"
   },
   "outputs": [],
   "source": [
    "x_np = np.array([1.0,2.0,3.0])\n",
    "\n",
    "x_np = x_np.copy() + 20.20"
   ]
  },
  {
   "cell_type": "code",
   "execution_count": null,
   "metadata": {
    "id": "TTY6CRwlBZj-",
    "outputId": "6551e66f-c2a2-43ad-8d8d-f3735fd06d45"
   },
   "outputs": [],
   "source": [
    "from answercheck import checkanswer\n",
    "\n",
    "checkanswer(x_np,'2f8cbcce405fa12b8608422ff28544bb');"
   ]
  },
  {
   "cell_type": "markdown",
   "metadata": {
    "id": "qocJkc11BZj-"
   },
   "source": [
    "### Scalar-vector multiplication and division\n",
    "When ```a``` is a scalar and ```x``` is ```numpy``` array. We can express the scalar-vector multiplication as ```a*x``` or ```x*a```.\n",
    "\n",
    "\n",
    "We can also do scalar-vector division for ```x/a``` or ```a/x```. (note that ```x/a``` and ```a/x``` are different)"
   ]
  },
  {
   "cell_type": "markdown",
   "metadata": {
    "id": "In1rI1pkBZj_"
   },
   "source": [
    "&#9989; **<font color=red>DO THIS:</font>** Divide all elements of the following vector ```x_np``` by ```20.20``` and put it into ```y_np```"
   ]
  },
  {
   "cell_type": "code",
   "execution_count": null,
   "metadata": {
    "id": "gc6W0vV2BZj_",
    "outputId": "e8788fdb-a198-41c1-a1e7-2233f2ca937f"
   },
   "outputs": [],
   "source": [
    "x_np = np.array([1,2,3])\n",
    "#####Start your code here #####\n",
    "y_np = x_np.copy()/20.20 \n",
    "#####End of your code here#####\n",
    "print(y_np)"
   ]
  },
  {
   "cell_type": "code",
   "execution_count": null,
   "metadata": {
    "id": "dHwQanjYBZj_",
    "outputId": "88676df4-a676-4f1c-fb2b-70465b99b378"
   },
   "outputs": [],
   "source": [
    "from answercheck import checkanswer\n",
    "\n",
    "checkanswer(y_np,'90c1b8639f9d350af1d971d89209a0c6');"
   ]
  },
  {
   "cell_type": "markdown",
   "metadata": {
    "id": "VjpUPGt0BZkA"
   },
   "source": [
    "### Element-wise operations.\n",
    "As stated above relational operations on ```numpy``` arrays are performed element-wise. Examples we mentioned before are\n",
    "+ The ```==``` operator\n",
    "+ The addition ```+``` and subtraction ```-```\n",
    "\n",
    "**_Note_** for this to work the two vectors have to be the same dimensions.\n",
    "\n",
    "\n",
    "If they are not have the same dimension, such as a scalar and a vector, we can think about expanding the scalar to have the same dimension as the vector and perform the operations. For example.\n",
    "+ Vector-scalar addition and subtraction\n",
    "+ Vector-scalar multiplication and division"
   ]
  },
  {
   "cell_type": "markdown",
   "metadata": {
    "id": "DvfFyzwjBZkA"
   },
   "source": [
    "&#9989; **<font color=red>DO THIS:</font>** Assume that you invested three assets with initial values stored in ```p_initial```, and after one week, their values are stored in ```p_final```. Then what are the asset return ratio (```r```) for these three assets (i.e. price change over the initial value)."
   ]
  },
  {
   "cell_type": "code",
   "execution_count": null,
   "metadata": {
    "id": "QRyWY6MEBZkA"
   },
   "outputs": [],
   "source": [
    "p_initial = np.array([22.15, 89.32, 56.77])\n",
    "p_final = np.array([23.05, 87.32, 53.13])\n",
    "r = (p_final - p_initial)/p_initial"
   ]
  },
  {
   "cell_type": "code",
   "execution_count": null,
   "metadata": {
    "id": "c20AwwXJBZkB",
    "outputId": "76173f3a-d15a-48a1-8434-89d564bef763"
   },
   "outputs": [],
   "source": [
    "from answercheck import checkanswer\n",
    "\n",
    "checkanswer(r,'0e231e6cfbef65cf178208cf377af85c');"
   ]
  },
  {
   "cell_type": "markdown",
   "metadata": {
    "id": "vyXU7KriBZkB"
   },
   "source": [
    "### Linear combination\n",
    "\n",
    "We have two vectors $x$ and $y$ we can get the linear combination of these two vectors as $ax + by$ where $a$ and $b$ are scalar coefficients.\n",
    "\n",
    "In the following example, we are given two vectors (```x_np``` and ```y_np```), and two scalars (```alpha``` and ```beta```), we obtain the linear combination ```alpha*x_np + beta*y_np```."
   ]
  },
  {
   "cell_type": "markdown",
   "metadata": {
    "id": "trn1LBDYBZkB"
   },
   "source": [
    "x_np = np.array([1,2])\n",
    "y_np = np.array([3,4])\n",
    "alpha = 0.5\n",
    "beta = -0.8\n",
    "c = alpha*x_np + beta*y_np\n",
    "print(c)"
   ]
  },
  {
   "cell_type": "code",
   "execution_count": null,
   "metadata": {
    "id": "wQRKZzKYBZkC",
    "outputId": "be91ebf5-b958-41e7-8bf2-c29cff1cb5f9"
   },
   "outputs": [],
   "source": [
    "x_np = np.array([1,2])\n",
    "y_np = np.array([3,4])\n",
    "alpha = 0.5\n",
    "beta = -0.8\n",
    "c = alpha*x_np + beta*y_np\n",
    "print(c)"
   ]
  },
  {
   "cell_type": "markdown",
   "metadata": {
    "id": "_muMw0_sBZkC"
   },
   "source": [
    "We can also define a function ```lincomb``` to performn the linear combination."
   ]
  },
  {
   "cell_type": "markdown",
   "metadata": {
    "id": "uGaRfWXcBZkC"
   },
   "source": [
    "&#9989; **<font color=red>DO THIS:</font>** Finish the following code for lincomb and compare the results we just got."
   ]
  },
  {
   "cell_type": "code",
   "execution_count": null,
   "metadata": {
    "id": "p7H9E7LRBZkD"
   },
   "outputs": [],
   "source": [
    "def lincomb(coef, vectors):\n",
    "    n = len(vectors[0])  # get the dimension of the vectors. note they have to be of the same dimension\n",
    "    comb = np.zeros(n)   # initial the value with all zeros.\n",
    "    ### Add code here to calculate the linear combination of the input vectors and the coefficients.\n",
    "    for i in range(n):\n",
    "        comb += coef[i]*vectors[i]          \n",
    "        \n",
    "    return comb"
   ]
  },
  {
   "cell_type": "code",
   "execution_count": null,
   "metadata": {
    "id": "LRcPzyDgBZkD",
    "outputId": "53dc47e7-4c8d-494e-b3ae-2ea223e108f1"
   },
   "outputs": [],
   "source": [
    "from answercheck import checkanswer\n",
    "\n",
    "combination = lincomb([alpha, beta], [x_np,y_np])\n",
    "\n",
    "checkanswer(combination,'8bab7329c94f3e3cda423add411685c2');"
   ]
  },
  {
   "cell_type": "markdown",
   "metadata": {
    "id": "dZtqH_J_BZkE"
   },
   "source": [
    "We can also test the functions ourselves by using values for which we know the answer. For example, the following tests are multiplying and adding by zero we know what these answers should be and can check them."
   ]
  },
  {
   "cell_type": "code",
   "execution_count": null,
   "metadata": {
    "id": "IHDk-T-sBZkE",
    "outputId": "de53aeaa-3ced-4b70-b0e6-eab615376c69"
   },
   "outputs": [],
   "source": [
    "combination = lincomb([0, 0], [x_np,y_np])\n",
    "\n",
    "combination == np.zeros(combination.shape)"
   ]
  },
  {
   "cell_type": "code",
   "execution_count": null,
   "metadata": {
    "id": "a1UzZ357BZkE"
   },
   "outputs": [],
   "source": [
    "combination = lincomb([2, 2], [combination,np.zeros(combination.shape)])\n",
    "\n",
    "combination == 2*combination"
   ]
  },
  {
   "cell_type": "markdown",
   "metadata": {
    "id": "NPYOzCPvBZkF"
   },
   "source": [
    "If you want to check that all values in a ```numpy.array``` are the same you could convert it to a list or there is a method called ```alltrue``` which checks if everything is true. It is a good idea to use this method if vectors get big."
   ]
  },
  {
   "cell_type": "code",
   "execution_count": null,
   "metadata": {
    "id": "EF2ikzdRBZkF",
    "outputId": "f0510b82-3fa7-4876-b78f-46b78c1a5286"
   },
   "outputs": [],
   "source": [
    "combination = lincomb([2, 2], [combination,np.zeros(combination.shape)])\n",
    "\n",
    "np.all(combination == 2*combination)"
   ]
  },
  {
   "cell_type": "markdown",
   "metadata": {
    "id": "wU8ncMPTBZkF"
   },
   "source": [
    "----\n",
    "\n",
    "Adapted from Dr. Dirk Colbry, MSU"
   ]
  },
  {
   "cell_type": "markdown",
   "metadata": {
    "id": "aLaXiuggBZkG"
   },
   "source": [
    "\n"
   ]
  }
 ],
 "metadata": {
  "colab": {
   "provenance": []
  },
  "kernelspec": {
   "display_name": "Python 3 (ipykernel)",
   "language": "python",
   "name": "python3"
  },
  "language_info": {
   "codemirror_mode": {
    "name": "ipython",
    "version": 3
   },
   "file_extension": ".py",
   "mimetype": "text/x-python",
   "name": "python",
   "nbconvert_exporter": "python",
   "pygments_lexer": "ipython3",
   "version": "3.13.5"
  }
 },
 "nbformat": 4,
 "nbformat_minor": 4
}
